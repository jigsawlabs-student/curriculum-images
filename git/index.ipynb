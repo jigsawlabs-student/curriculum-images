{
 "cells": [
  {
   "cell_type": "markdown",
   "metadata": {},
   "source": [
    "# Branches in Git"
   ]
  },
  {
   "cell_type": "markdown",
   "metadata": {},
   "source": [
    "### Introduction"
   ]
  },
  {
   "cell_type": "markdown",
   "metadata": {},
   "source": [
    "So far we have learned how to save our progress in git.  That is how to move forward by adding files and then making a commit.  And then another commit."
   ]
  },
  {
   "cell_type": "markdown",
   "metadata": {},
   "source": [
    "<img src=\"./commit-draw.png\" width=\"30%\">"
   ]
  },
  {
   "cell_type": "markdown",
   "metadata": {},
   "source": [
    "But what if we want to add some new code but we're not sure how it will turn out?  We may want to branch off of this main path, and into a new one."
   ]
  },
  {
   "cell_type": "markdown",
   "metadata": {},
   "source": [
    "In this lesson we'll learn how to do that."
   ]
  },
  {
   "cell_type": "markdown",
   "metadata": {},
   "source": [
    "### Branches in Git"
   ]
  },
  {
   "cell_type": "markdown",
   "metadata": {},
   "source": [
    "Let's initialize another git repository."
   ]
  },
  {
   "cell_type": "code",
   "execution_count": 1,
   "metadata": {},
   "outputs": [
    {
     "name": "stdout",
     "output_type": "stream",
     "text": [
      "Initialized empty Git repository in /Users/jeff/Documents/jigsaw/curriculum/1-section-content/mod-1/2-datatypes/a-fundamentals/9-github/3-git-branches/.git/\n"
     ]
    }
   ],
   "source": [
    "!git init"
   ]
  },
  {
   "cell_type": "markdown",
   "metadata": {},
   "source": [
    "And then check our status."
   ]
  },
  {
   "cell_type": "code",
   "execution_count": 3,
   "metadata": {},
   "outputs": [
    {
     "name": "stdout",
     "output_type": "stream",
     "text": [
      "On branch master\n",
      "\n",
      "No commits yet\n",
      "\n",
      "Untracked files:\n",
      "  (use \"git add <file>...\" to include in what will be committed)\n",
      "\n",
      "\t\u001b[31m.ipynb_checkpoints/\u001b[m\n",
      "\t\u001b[31mbranching.png\u001b[m\n",
      "\t\u001b[31mcommit-diagram.png\u001b[m\n",
      "\t\u001b[31mcommit-draw.png\u001b[m\n",
      "\t\u001b[31mindex.ipynb\u001b[m\n",
      "\t\u001b[31muntitled.dio\u001b[m\n",
      "\n",
      "nothing added to commit but untracked files present (use \"git add\" to track)\n"
     ]
    }
   ],
   "source": [
    "!git status"
   ]
  },
  {
   "cell_type": "markdown",
   "metadata": {},
   "source": [
    "The first line says that we are `On branch master`.  The master branch is the main branch of our repository.  If we think of our repository as a tree, then the master branch is the trunk.  Each commit is another knotch, moving sequentially further along that trunk."
   ]
  },
  {
   "cell_type": "markdown",
   "metadata": {},
   "source": [
    "<img src=\"./master-branch-git.png\" width=\"40%\">"
   ]
  },
  {
   "cell_type": "markdown",
   "metadata": {},
   "source": [
    "> Here we have laid our tree sideways."
   ]
  },
  {
   "cell_type": "markdown",
   "metadata": {},
   "source": [
    "Let's add all of our files and make a commit."
   ]
  },
  {
   "cell_type": "markdown",
   "metadata": {},
   "source": [
    "> `git add .` will add all of the files to staging."
   ]
  },
  {
   "cell_type": "code",
   "execution_count": 4,
   "metadata": {},
   "outputs": [
    {
     "name": "stdout",
     "output_type": "stream",
     "text": [
      "[master (root-commit) f99c203] first commit\n",
      " 8 files changed, 252 insertions(+)\n",
      " create mode 100644 .ipynb_checkpoints/index-checkpoint.ipynb\n",
      " create mode 100644 .ipynb_checkpoints/untitled-checkpoint.dio\n",
      " create mode 100644 branching.png\n",
      " create mode 100644 commit-diagram.png\n",
      " create mode 100644 commit-draw.png\n",
      " create mode 100644 index.ipynb\n",
      " create mode 100644 master-branch-git.png\n",
      " create mode 100644 untitled.dio\n"
     ]
    }
   ],
   "source": [
    "!git add album.py\n",
    "!git commit -m 'first commit'"
   ]
  },
  {
   "cell_type": "markdown",
   "metadata": {},
   "source": [
    "Notice that at the top git says, `master (root-commit) ...]`."
   ]
  },
  {
   "cell_type": "markdown",
   "metadata": {},
   "source": [
    "Now let's create another file and make one more commit."
   ]
  },
  {
   "cell_type": "code",
   "execution_count": 6,
   "metadata": {},
   "outputs": [],
   "source": [
    "!touch album.py"
   ]
  },
  {
   "cell_type": "code",
   "execution_count": 7,
   "metadata": {},
   "outputs": [
    {
     "name": "stdout",
     "output_type": "stream",
     "text": [
      "[master 0c079aa] adding album.py\n",
      " 2 files changed, 73 insertions(+), 2 deletions(-)\n",
      " create mode 100644 album.py\n"
     ]
    }
   ],
   "source": [
    "!git add .\n",
    "! git commit -m 'adding album.py'"
   ]
  },
  {
   "cell_type": "markdown",
   "metadata": {},
   "source": [
    "If do a `git log`, we'll see our master branch now looks like the following."
   ]
  },
  {
   "cell_type": "markdown",
   "metadata": {},
   "source": [
    "<img src=\"./adding-album-commit.png\" width=\"50%\">"
   ]
  },
  {
   "cell_type": "code",
   "execution_count": 9,
   "metadata": {},
   "outputs": [
    {
     "name": "stdout",
     "output_type": "stream",
     "text": [
      "\u001b[33mcommit 0c079aa1e802b4c3f5a455c10b6e97288a79dcd1\u001b[m\u001b[33m (\u001b[m\u001b[1;36mHEAD -> \u001b[m\u001b[1;32mmaster\u001b[m\u001b[33m)\u001b[m\n",
      "Author: Jeff Katz <JeffreyEricKatz@gmail.com>\n",
      "Date:   Wed Feb 5 15:56:42 2020 -0500\n",
      "\n",
      "    adding album.py\n",
      "\n",
      "\u001b[33mcommit f99c2039641ee41ca45caffb73684f09444ae130\u001b[m\n",
      "Author: Jeff Katz <JeffreyEricKatz@gmail.com>\n",
      "Date:   Wed Feb 5 15:53:50 2020 -0500\n",
      "\n",
      "    first commit\n"
     ]
    }
   ],
   "source": [
    "!git log"
   ]
  },
  {
   "cell_type": "markdown",
   "metadata": {},
   "source": [
    "### Moving to a New Branch"
   ]
  },
  {
   "cell_type": "markdown",
   "metadata": {},
   "source": [
    "Ok, before moving to a new branch, let's learn another git command."
   ]
  },
  {
   "cell_type": "code",
   "execution_count": 12,
   "metadata": {},
   "outputs": [
    {
     "name": "stdout",
     "output_type": "stream",
     "text": [
      "* \u001b[32mmaster\u001b[m\n"
     ]
    }
   ],
   "source": [
    "!git branch -a"
   ]
  },
  {
   "cell_type": "markdown",
   "metadata": {},
   "source": [
    "This above lists all of the branches in the repostory.  We can see that we currently only have one branch master, and the `*` indicates that we are on the master branch."
   ]
  },
  {
   "cell_type": "markdown",
   "metadata": {},
   "source": [
    "Now let's create a new branch."
   ]
  },
  {
   "cell_type": "code",
   "execution_count": 15,
   "metadata": {},
   "outputs": [
    {
     "name": "stdout",
     "output_type": "stream",
     "text": [
      "M\tindex.ipynb\n",
      "Switched to a new branch 'find_albums'\n"
     ]
    }
   ],
   "source": [
    "!git checkout -b find_albums"
   ]
  },
  {
   "cell_type": "markdown",
   "metadata": {},
   "source": [
    "We can see that we just created, and switched to a new branch `find_albums`.  Let's use `git branch -a` to confirm both of these facts."
   ]
  },
  {
   "cell_type": "code",
   "execution_count": 16,
   "metadata": {},
   "outputs": [
    {
     "name": "stdout",
     "output_type": "stream",
     "text": [
      "* \u001b[32mfind_albums\u001b[m\n",
      "  master\u001b[m\n"
     ]
    }
   ],
   "source": [
    "!git branch -a"
   ]
  },
  {
   "cell_type": "markdown",
   "metadata": {},
   "source": [
    "Excellent.  And now let's add a `find_albums` function to our code."
   ]
  },
  {
   "cell_type": "markdown",
   "metadata": {},
   "source": [
    "```python\n",
    "def find_albums(albums, title):\n",
    "    return [ album for album in albums if album['title'] == 'title' ]\n",
    "```"
   ]
  },
  {
   "cell_type": "markdown",
   "metadata": {},
   "source": [
    "> Actually copy and paste this into the `album.py` file.  Trust me, it's worth it."
   ]
  },
  {
   "cell_type": "markdown",
   "metadata": {},
   "source": [
    "And just for good measure, let's also create a new file called `song.py`."
   ]
  },
  {
   "cell_type": "code",
   "execution_count": null,
   "metadata": {},
   "outputs": [],
   "source": [
    "!touch song.py"
   ]
  },
  {
   "cell_type": "markdown",
   "metadata": {},
   "source": [
    "Ok, now let's add the changes to our files, and make a commit."
   ]
  },
  {
   "cell_type": "code",
   "execution_count": 20,
   "metadata": {},
   "outputs": [
    {
     "name": "stdout",
     "output_type": "stream",
     "text": [
      "[find_albums e06ae3c] search albums added\n",
      " 4 files changed, 78 insertions(+), 1 deletion(-)\n",
      " create mode 100644 .ipynb_checkpoints/album-checkpoint.py\n",
      " create mode 100644 feature-branch.png\n"
     ]
    }
   ],
   "source": [
    "!git add song.py album.py\n",
    "!git commit -m 'search albums added'"
   ]
  },
  {
   "cell_type": "markdown",
   "metadata": {},
   "source": [
    "Now here is the question.  If we ran `git log` right now, would we see all of the previous commits?"
   ]
  },
  {
   "cell_type": "code",
   "execution_count": 21,
   "metadata": {},
   "outputs": [
    {
     "name": "stdout",
     "output_type": "stream",
     "text": [
      "\u001b[33mcommit e06ae3c2140e12b1f348dc1b289f41d640734b7a\u001b[m\u001b[33m (\u001b[m\u001b[1;36mHEAD -> \u001b[m\u001b[1;32mfind_albums\u001b[m\u001b[33m)\u001b[m\n",
      "Author: Jeff Katz <JeffreyEricKatz@gmail.com>\n",
      "Date:   Wed Feb 5 16:13:07 2020 -0500\n",
      "\n",
      "    search albums added\n",
      "\n",
      "\u001b[33mcommit 1d947cac431d454dd1a125e762a7635d0aa727b2\u001b[m\n",
      "Author: Jeff Katz <JeffreyEricKatz@gmail.com>\n",
      "Date:   Wed Feb 5 16:05:27 2020 -0500\n",
      "\n",
      "    add song\n",
      "\n",
      "\u001b[33mcommit 0c079aa1e802b4c3f5a455c10b6e97288a79dcd1\u001b[m\u001b[33m (\u001b[m\u001b[1;32mmaster\u001b[m\u001b[33m)\u001b[m\n",
      "Author: Jeff Katz <JeffreyEricKatz@gmail.com>\n",
      "Date:   Wed Feb 5 15:56:42 2020 -0500\n",
      "\n",
      "    adding album.py\n",
      "\n",
      "\u001b[33mcommit f99c2039641ee41ca45caffb73684f09444ae130\u001b[m\n",
      "Author: Jeff Katz <JeffreyEricKatz@gmail.com>\n",
      "Date:   Wed Feb 5 15:53:50 2020 -0500\n",
      "\n",
      "    first commit\n"
     ]
    }
   ],
   "source": [
    "!git log"
   ]
  },
  {
   "cell_type": "markdown",
   "metadata": {},
   "source": [
    "So the answer is yes."
   ]
  },
  {
   "cell_type": "markdown",
   "metadata": {},
   "source": [
    "Here is what our `find_albums` branch currently looks like."
   ]
  },
  {
   "cell_type": "markdown",
   "metadata": {},
   "source": [
    "<img src=\"./find-albums-branch.png\" width=\"60%\">"
   ]
  },
  {
   "cell_type": "markdown",
   "metadata": {},
   "source": [
    "So the branch inherits or shares a history with all the commits that preceded it on the master branch."
   ]
  },
  {
   "cell_type": "markdown",
   "metadata": {},
   "source": [
    "Now let's switch back to the master branch.  We can do so with `git checkout master`."
   ]
  },
  {
   "cell_type": "code",
   "execution_count": 26,
   "metadata": {},
   "outputs": [
    {
     "name": "stdout",
     "output_type": "stream",
     "text": [
      "[find_albums 56e8280] making updates\n",
      " 4 files changed, 486 insertions(+), 21 deletions(-)\n",
      " create mode 100644 feature-branch-search.png\n",
      " create mode 100644 find-albums-branch.png\n",
      "Switched to branch 'master'\n"
     ]
    }
   ],
   "source": [
    "!git add -A \n",
    "!git commit -m 'making updates'\n",
    "!git checkout master"
   ]
  },
  {
   "cell_type": "markdown",
   "metadata": {},
   "source": [
    "And then confirm that we are on the master branch."
   ]
  },
  {
   "cell_type": "code",
   "execution_count": 27,
   "metadata": {},
   "outputs": [
    {
     "name": "stdout",
     "output_type": "stream",
     "text": [
      "  find_albums\u001b[m\n",
      "* \u001b[32mmaster\u001b[m\n"
     ]
    }
   ],
   "source": [
    "!git branch -a"
   ]
  },
  {
   "cell_type": "markdown",
   "metadata": {},
   "source": [
    "Now if we take a look at git log, we'll see that we no longer have the code we wrote on the `adding_albums` branch."
   ]
  },
  {
   "cell_type": "code",
   "execution_count": 28,
   "metadata": {},
   "outputs": [
    {
     "name": "stdout",
     "output_type": "stream",
     "text": [
      "\u001b[33mcommit 0c079aa1e802b4c3f5a455c10b6e97288a79dcd1\u001b[m\u001b[33m (\u001b[m\u001b[1;36mHEAD -> \u001b[m\u001b[1;32mmaster\u001b[m\u001b[33m)\u001b[m\n",
      "Author: Jeff Katz <JeffreyEricKatz@gmail.com>\n",
      "Date:   Wed Feb 5 15:56:42 2020 -0500\n",
      "\n",
      "    adding album.py\n",
      "\n",
      "\u001b[33mcommit f99c2039641ee41ca45caffb73684f09444ae130\u001b[m\n",
      "Author: Jeff Katz <JeffreyEricKatz@gmail.com>\n",
      "Date:   Wed Feb 5 15:53:50 2020 -0500\n",
      "\n",
      "    first commit\n"
     ]
    }
   ],
   "source": [
    "!git log"
   ]
  },
  {
   "cell_type": "markdown",
   "metadata": {},
   "source": [
    "While this may seem like a hindrance, it's actually the benefit of creating a new branch.  Our original, working code, is untouched by any changes we make.  And then if we decide to we like the code on the other branch, we can always merge it in."
   ]
  },
  {
   "cell_type": "code",
   "execution_count": 29,
   "metadata": {},
   "outputs": [
    {
     "name": "stdout",
     "output_type": "stream",
     "text": [
      "  find_albums\u001b[m\n",
      "* \u001b[32mmaster\u001b[m\n"
     ]
    }
   ],
   "source": [
    "!git branch -a"
   ]
  },
  {
   "cell_type": "code",
   "execution_count": 31,
   "metadata": {},
   "outputs": [
    {
     "name": "stdout",
     "output_type": "stream",
     "text": [
      "[master 614c9b9] updating\n",
      " 2 files changed, 353 insertions(+), 8 deletions(-)\n",
      "Auto-merging index.ipynb\n",
      "CONFLICT (content): Merge conflict in index.ipynb\n",
      "Automatic merge failed; fix conflicts and then commit the result.\n"
     ]
    }
   ],
   "source": [
    "!git add .\n",
    "!git commit -m 'updating'\n",
    "!git merge find_albums"
   ]
  },
  {
   "cell_type": "markdown",
   "metadata": {},
   "source": [
    "So notice above, to merge the commits from our new branch onto master, we first had to `checkout` the master branch, and then specified the branch that we wanted to merge into master.  "
   ]
  },
  {
   "cell_type": "markdown",
   "metadata": {},
   "source": [
    "Our repository now looks like the following:"
   ]
  },
  {
   "cell_type": "markdown",
   "metadata": {},
   "source": [
    "<img src=\"./merged-master.png\">"
   ]
  },
  {
   "cell_type": "markdown",
   "metadata": {},
   "source": [
    "### Summary"
   ]
  },
  {
   "cell_type": "markdown",
   "metadata": {},
   "source": [
    "In this lesson, we saw how to work with different branches in git.  We first learned about the `master` branch, which is the branch that we start on in a git repository.\n",
    "\n",
    "Then we saw how to list the branches:\n",
    "* `git branch -a`\n",
    "\n",
    "And the how to create, and switch to a new branch:\n",
    "* `git checkout -b name_of_branch`\n",
    "\n",
    "We saw that on that new branch, the branch inherits all of the previous commits made on branch it spawned off of.  However when we make a commit on that branch, it is not automatically on the master branch.\n",
    "\n",
    "To move the commits from a different branch onto the master branch, we must first checkout the master branch, and then merge our branch onto the master branch.\n",
    "\n",
    "* `git checkout master`\n",
    "* `git merge name_of_branch`"
   ]
  }
 ],
 "metadata": {
  "kernelspec": {
   "display_name": "Python 3",
   "language": "python",
   "name": "python3"
  },
  "language_info": {
   "codemirror_mode": {
    "name": "ipython",
    "version": 3
   },
   "file_extension": ".py",
   "mimetype": "text/x-python",
   "name": "python",
   "nbconvert_exporter": "python",
   "pygments_lexer": "ipython3",
   "version": "3.8.3"
  }
 },
 "nbformat": 4,
 "nbformat_minor": 4
}
