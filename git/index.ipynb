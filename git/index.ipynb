{
 "cells": [
  {
   "cell_type": "markdown",
   "metadata": {},
   "source": [
    "# Git Commands For Remote Repositories"
   ]
  },
  {
   "cell_type": "markdown",
   "metadata": {},
   "source": [
    "### Introduction"
   ]
  },
  {
   "cell_type": "markdown",
   "metadata": {},
   "source": [
    "In the last lesson, we saw how we can setup a Git repository.  In this lesson, let's better understand some of the commands for working with a repository."
   ]
  },
  {
   "cell_type": "markdown",
   "metadata": {},
   "source": [
    "### Setting Up a Remote Repository"
   ]
  },
  {
   "cell_type": "markdown",
   "metadata": {},
   "source": [
    "Let's focus in on the steps to set up a remote repository.  Just like before we can, create new repository on Github by going to [Github](github.com), signing in, and then clicking on the `+` button followed by `New Repository`. "
   ]
  },
  {
   "cell_type": "markdown",
   "metadata": {},
   "source": [
    "<img src=\"https://raw.githubusercontent.com/jigsawlabs-student/curriculum-images/main/git/new-repo.png\" width=\"50%\">"
   ]
  },
  {
   "cell_type": "markdown",
   "metadata": {},
   "source": [
    "Next, create a public repository and give the respository a name of your choosing."
   ]
  },
  {
   "cell_type": "markdown",
   "metadata": {},
   "source": [
    "> I am calling my repository `albums_songs`."
   ]
  },
  {
   "cell_type": "markdown",
   "metadata": {},
   "source": [
    "<img src=\"https://raw.githubusercontent.com/jigsawlabs-student/curriculum-images/main/git/albums-songs.png\" width=\"50%\">"
   ]
  },
  {
   "cell_type": "markdown",
   "metadata": {},
   "source": [
    "Now let's try to understand the commands on the next line."
   ]
  },
  {
   "cell_type": "markdown",
   "metadata": {},
   "source": [
    "```\n",
    "echo \"# albums_songs\" >> README.md\n",
    "git init\n",
    "git add README.md\n",
    "git commit -m \"first commit\"\n",
    "git remote add origin git@github.com:JeffKatzy/albums_songs.git\n",
    "git push -u origin master\n",
    "```"
   ]
  },
  {
   "cell_type": "markdown",
   "metadata": {},
   "source": [
    "The first line `echo \"# albums_songs\" >> README.md`, creates a README.md file and adds the line `# albums_songs` to the README.\n",
    "\n",
    "The next three lines we've seen before."
   ]
  },
  {
   "cell_type": "markdown",
   "metadata": {},
   "source": [
    "* `git init` creates a new repository on our local computer\n",
    "* `git add README.md` adds the README.md file to staging\n",
    "* `git commit -m \"first commit\"` makes a commit"
   ]
  },
  {
   "cell_type": "markdown",
   "metadata": {},
   "source": [
    "The next line deals with setting up a remote repository."
   ]
  },
  {
   "cell_type": "markdown",
   "metadata": {},
   "source": [
    "`git remote add origin git@github.com:UserNameHere/albums_songs.git`"
   ]
  },
  {
   "cell_type": "markdown",
   "metadata": {},
   "source": [
    "Copy the line and paste it into the terminal, or run it through the Jupyter notebook."
   ]
  },
  {
   "cell_type": "code",
   "execution_count": 3,
   "metadata": {},
   "outputs": [
    {
     "name": "stdout",
     "output_type": "stream",
     "text": [
      "Initialized empty Git repository in /Users/jeff/Documents/jigsaw/curriculum/1-section-content/mod-1/2-datatypes/a-fundamentals/91-git-and-github/6-github-commands/.git/\n"
     ]
    }
   ],
   "source": [
    "!git init"
   ]
  },
  {
   "cell_type": "code",
   "execution_count": 4,
   "metadata": {},
   "outputs": [],
   "source": [
    "!git remote add origin git@github.com:JeffKatzy/albums_songs.git"
   ]
  },
  {
   "cell_type": "markdown",
   "metadata": {},
   "source": [
    "To better understand the command above just did, run the following."
   ]
  },
  {
   "cell_type": "code",
   "execution_count": 5,
   "metadata": {},
   "outputs": [
    {
     "name": "stdout",
     "output_type": "stream",
     "text": [
      "origin\tgit@github.com:JeffKatzy/albums_songs.git (fetch)\n",
      "origin\tgit@github.com:JeffKatzy/albums_songs.git (push)\n"
     ]
    }
   ],
   "source": [
    "!git remote -v"
   ]
  },
  {
   "cell_type": "markdown",
   "metadata": {},
   "source": [
    "What this is showing is that the word `origin` is just an alias -- like a nickname, or a variable -- that represents the full address `git@github.com:UserName/albums_songs.git`.  So whenever we type the word `origin` in our terminal, we are really representing the address `git@github.com:...`."
   ]
  },
  {
   "cell_type": "markdown",
   "metadata": {},
   "source": [
    "Now let's think about the command we generally execute next. \n",
    "\n",
    "* `git push origin master`"
   ]
  },
  {
   "cell_type": "markdown",
   "metadata": {},
   "source": [
    "This tells us to push to `origin`, which remember is just that web address above.  And to push our `master` branch, and to push our master branch.  \n",
    "\n",
    "So that's what happens.  We push our master branch to the specified web address."
   ]
  },
  {
   "cell_type": "markdown",
   "metadata": {},
   "source": [
    "### Retrieving Data"
   ]
  },
  {
   "cell_type": "markdown",
   "metadata": {},
   "source": [
    "Now let's say there are updates made to our remote repository `git@github.com:UserName/albums_songs.git`.  We can download those changes into our git repository with the following command:\n",
    "\n",
    "`git pull origin master`"
   ]
  },
  {
   "cell_type": "markdown",
   "metadata": {},
   "source": [
    "This will pull down the commits (and corresponding code) from the origin  web address's (the location on Github) and the master branch."
   ]
  },
  {
   "cell_type": "markdown",
   "metadata": {},
   "source": [
    "### One last thing"
   ]
  },
  {
   "cell_type": "markdown",
   "metadata": {},
   "source": [
    "That is a good start for working with Github.  We have seen how to set our origin with `git remote add origin web_address`, push our changes up to that github address with `git push origin branch`, and then pull down changes with `git pull origin branch`.\n",
    "\n",
    "With github we can also download the commits of a codebase we have never worked with before.  For example, imagine that we would like to download the data of 538, which is available [here](https://github.com/fivethirtyeight/data).  \n",
    "\n",
    "> **Note:** Before downloading this data, note that we should not download one git repository into a folder that is already a git repository.  So before downloading the data, make sure you are in a folder that currently does not have a git repository.  \n",
    "\n",
    "> You can check this by running `git status`.  If you see `not a git repository` then you are good."
   ]
  },
  {
   "cell_type": "markdown",
   "metadata": {},
   "source": [
    "Finally, once you ensured you are not currently in a git repository, you can download the repository from github with the command `git clone address`."
   ]
  },
  {
   "cell_type": "markdown",
   "metadata": {},
   "source": [
    "Now what's that address, we can find it here:"
   ]
  },
  {
   "cell_type": "markdown",
   "metadata": {},
   "source": [
    "<img src=\"./github-address.png\">"
   ]
  },
  {
   "cell_type": "markdown",
   "metadata": {},
   "source": [
    "Clicking on the button next to the address will copy the address to our computer, and we can press `cmd + v` to paste that address."
   ]
  },
  {
   "cell_type": "markdown",
   "metadata": {},
   "source": [
    "Ok, now that we have the web address, let's see the clone command for cloning the 538 data repository."
   ]
  },
  {
   "cell_type": "markdown",
   "metadata": {},
   "source": [
    "`git clone https://github.com/fivethirtyeight/data.git`"
   ]
  },
  {
   "cell_type": "markdown",
   "metadata": {},
   "source": [
    "That's it. "
   ]
  },
  {
   "cell_type": "markdown",
   "metadata": {},
   "source": [
    "### Summary"
   ]
  },
  {
   "cell_type": "markdown",
   "metadata": {},
   "source": [
    "In this lesson, we saw how to push code to a github repository, and pull code from a github repository.  \n",
    "\n",
    "We push code to a github repository, by specifying the `origin` address.  Origin is just an alias, like a variable, which represents a longer web address, `git@github...`.\n",
    "\n",
    "We specify origin with the command `git remote add origin git_address`.  And we can then check that address with `git remote -v`.  If we wish to change the address we can do so with `git remote set-url origin new_address`.  Once origin is setup, we can then push new local commits to github with `git push origin master`, which pushes new commits from our master branch to origin.\n",
    "\n",
    "Then we saw that we can download new updates to that repository with `git pull origin master`.  Finally, we saw that we can download a new repository with `git clone git_address`."
   ]
  }
 ],
 "metadata": {
  "kernelspec": {
   "display_name": "Python 3",
   "language": "python",
   "name": "python3"
  },
  "language_info": {
   "codemirror_mode": {
    "name": "ipython",
    "version": 3
   },
   "file_extension": ".py",
   "mimetype": "text/x-python",
   "name": "python",
   "nbconvert_exporter": "python",
   "pygments_lexer": "ipython3",
   "version": "3.8.3"
  }
 },
 "nbformat": 4,
 "nbformat_minor": 4
}
