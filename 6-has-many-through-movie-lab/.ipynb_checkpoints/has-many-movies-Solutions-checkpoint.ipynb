{
 "cells": [
  {
   "cell_type": "markdown",
   "metadata": {},
   "source": [
    "# Has Many Movie Lab"
   ]
  },
  {
   "cell_type": "markdown",
   "metadata": {},
   "source": [
    "### Introduction\n",
    "In this lab we will continue to look at the \"Has-Many\" relationships in our data. The database we will be using during this lab contains information about a selection of movies and related entities such as actors, directors and writers. A movie entity will have relationships with actor, director, and writer entities. The actors, directors and writers will also have relationships with themselves (i.e. a director will have worked with many actors). In problems below, we will use our knowledge of these relationships to build SQL queries."
   ]
  },
  {
   "cell_type": "markdown",
   "metadata": {},
   "source": [
    "Let's begin by connecting to the database and reviewing the schema of the tables."
   ]
  },
  {
   "cell_type": "code",
   "execution_count": null,
   "metadata": {},
   "outputs": [],
   "source": [
    "import sqlite3\n",
    "conn = sqlite3.connect('films.db')\n",
    "cursor = conn.cursor()"
   ]
  },
  {
   "cell_type": "code",
   "execution_count": null,
   "metadata": {},
   "outputs": [],
   "source": [
    "cursor.execute('SELECT name from sqlite_master where type= \"table\"')\n",
    "cursor.fetchall()"
   ]
  },
  {
   "cell_type": "code",
   "execution_count": null,
   "metadata": {},
   "outputs": [],
   "source": [
    "cursor.execute('PRAGMA table_info(movies)')\n",
    "cursor.fetchall()"
   ]
  },
  {
   "cell_type": "code",
   "execution_count": null,
   "metadata": {},
   "outputs": [],
   "source": [
    "cursor.execute('PRAGMA table_info(actors)')\n",
    "cursor.fetchall()"
   ]
  },
  {
   "cell_type": "code",
   "execution_count": null,
   "metadata": {},
   "outputs": [],
   "source": [
    "cursor.execute('PRAGMA table_info(directors)')\n",
    "cursor.fetchall()"
   ]
  },
  {
   "cell_type": "code",
   "execution_count": null,
   "metadata": {},
   "outputs": [],
   "source": [
    "cursor.execute('PRAGMA table_info(writers)')\n",
    "cursor.fetchall()"
   ]
  },
  {
   "cell_type": "code",
   "execution_count": null,
   "metadata": {},
   "outputs": [],
   "source": [
    "cursor.execute('PRAGMA table_info(movie_actors)')\n",
    "cursor.fetchall()"
   ]
  },
  {
   "cell_type": "code",
   "execution_count": null,
   "metadata": {},
   "outputs": [],
   "source": [
    "cursor.execute('PRAGMA table_info(movie_directors)')\n",
    "cursor.fetchall()"
   ]
  },
  {
   "cell_type": "code",
   "execution_count": null,
   "metadata": {},
   "outputs": [],
   "source": [
    "cursor.execute('PRAGMA table_info(movie_writers)')\n",
    "cursor.fetchall()"
   ]
  },
  {
   "cell_type": "markdown",
   "metadata": {},
   "source": [
    "### Questions"
   ]
  },
  {
   "cell_type": "markdown",
   "metadata": {},
   "source": [
    "Let's start off with some basic one table queries:"
   ]
  },
  {
   "cell_type": "markdown",
   "metadata": {},
   "source": [
    "* What is the title, runtime, and id of the movie with the longest runtime?"
   ]
  },
  {
   "cell_type": "code",
   "execution_count": null,
   "metadata": {},
   "outputs": [],
   "source": [
    "cursor.execute(\"\"\"\n",
    "SELECT title,\n",
    "       runtime,\n",
    "       id\n",
    "  FROM movies\n",
    " ORDER BY runtime DESC\n",
    " LIMIT 1;\n",
    "\"\"\")\n",
    "cursor.fetchall()"
   ]
  },
  {
   "cell_type": "markdown",
   "metadata": {},
   "source": [
    "* Using your answer from the previous question, how many actors were credited for the movie with the longest runtime? Hint: Use the COUNT function with the movie ID"
   ]
  },
  {
   "cell_type": "code",
   "execution_count": null,
   "metadata": {},
   "outputs": [],
   "source": [
    "cursor.execute(\"\"\"\n",
    "SELECT COUNT( * ) \n",
    "  FROM movie_actors\n",
    " WHERE movie_id = 480;\n",
    "\n",
    "\"\"\")\n",
    "cursor.fetchall()"
   ]
  },
  {
   "cell_type": "markdown",
   "metadata": {},
   "source": [
    "* What was the shortest movie released in 2006?"
   ]
  },
  {
   "cell_type": "code",
   "execution_count": null,
   "metadata": {},
   "outputs": [],
   "source": [
    "cursor.execute(\"\"\"\n",
    "SELECT title\n",
    "  FROM movies\n",
    " WHERE year = 2006\n",
    " ORDER BY runtime\n",
    " LIMIT 1;\n",
    "\"\"\")\n",
    "cursor.fetchall()"
   ]
  },
  {
   "cell_type": "markdown",
   "metadata": {},
   "source": [
    "### Has Many"
   ]
  },
  {
   "cell_type": "markdown",
   "metadata": {},
   "source": [
    "* What are the names of the actors in Toy Story? (movie ID is 3648)"
   ]
  },
  {
   "cell_type": "code",
   "execution_count": null,
   "metadata": {},
   "outputs": [],
   "source": [
    "cursor.execute(\"\"\"\n",
    "SELECT a.name\n",
    "  FROM movie_actors AS ma\n",
    "       JOIN\n",
    "       actors AS a ON ma.actor_id = a.id\n",
    " WHERE ma.movie_id = 3648;\n",
    "\"\"\")\n",
    "cursor.fetchall()"
   ]
  },
  {
   "cell_type": "markdown",
   "metadata": {},
   "source": [
    "* What is the name of the director of Toy Story?"
   ]
  },
  {
   "cell_type": "code",
   "execution_count": null,
   "metadata": {},
   "outputs": [],
   "source": [
    "cursor.execute(\"\"\"\n",
    "SELECT d.name\n",
    "  FROM movie_directors AS md\n",
    "       JOIN\n",
    "       directors AS d ON md.director_id = d.id\n",
    " WHERE md.movie_id = 3648;\n",
    "\"\"\")\n",
    "cursor.fetchall()"
   ]
  },
  {
   "cell_type": "markdown",
   "metadata": {},
   "source": [
    "* What are the names of the writers of Toy Story?"
   ]
  },
  {
   "cell_type": "code",
   "execution_count": null,
   "metadata": {},
   "outputs": [],
   "source": [
    "cursor.execute(\"\"\"\n",
    "SELECT w.name\n",
    "  FROM movie_writers AS mw\n",
    "       JOIN\n",
    "       writers AS w ON mw.writer_id = w.id\n",
    " WHERE mw.movie_id = 3648;\n",
    "\"\"\")\n",
    "cursor.fetchall()"
   ]
  },
  {
   "cell_type": "markdown",
   "metadata": {},
   "source": [
    "* What is the name and actor id of the actor with the most credits in the database?"
   ]
  },
  {
   "cell_type": "code",
   "execution_count": null,
   "metadata": {},
   "outputs": [],
   "source": [
    "cursor.execute(\"\"\"\n",
    "SELECT a.name,\n",
    "       a.id,\n",
    "       COUNT( * ) \n",
    "  FROM movie_actors AS ma\n",
    "       JOIN\n",
    "       actors a ON ma.actor_id = a.id\n",
    " GROUP BY ma.actor_id\n",
    " ORDER BY COUNT( * ) DESC\n",
    " LIMIT 1;\n",
    "\"\"\")\n",
    "cursor.fetchall()"
   ]
  },
  {
   "cell_type": "markdown",
   "metadata": {},
   "source": [
    "* What are the titles of the movies the actor from the previous question has been in, after the year 2005?"
   ]
  },
  {
   "cell_type": "code",
   "execution_count": null,
   "metadata": {},
   "outputs": [],
   "source": [
    "cursor.execute(\"\"\"\n",
    "SELECT m.title\n",
    "  FROM movie_actors AS ma\n",
    "       JOIN\n",
    "       movies AS m ON ma.movie_id = m.id\n",
    " WHERE ma.actor_id = 429 AND \n",
    "       m.year > 2005;\n",
    "\"\"\")\n",
    "cursor.fetchall()"
   ]
  },
  {
   "cell_type": "markdown",
   "metadata": {},
   "source": [
    "* What are the titles of movies with more than two directors?"
   ]
  },
  {
   "cell_type": "code",
   "execution_count": null,
   "metadata": {},
   "outputs": [],
   "source": [
    "cursor.execute(\"\"\"\n",
    "SELECT m.title\n",
    "  FROM movie_directors AS md\n",
    "       JOIN\n",
    "       movies AS m ON md.movie_id = m.id\n",
    " GROUP BY m.id\n",
    "HAVING COUNT( * ) > 2;\n",
    "\"\"\")\n",
    "# cursor.fetchall()"
   ]
  },
  {
   "cell_type": "markdown",
   "metadata": {},
   "source": [
    "### Has Many Through"
   ]
  },
  {
   "cell_type": "markdown",
   "metadata": {},
   "source": [
    "* What is the name of the writer in the database that has been credited the most times during the year 2018?"
   ]
  },
  {
   "cell_type": "code",
   "execution_count": null,
   "metadata": {},
   "outputs": [],
   "source": [
    "cursor.execute(\"\"\"\n",
    "SELECT w.name,\n",
    "       count( * ) \n",
    "  FROM movie_writers AS mw\n",
    "       JOIN\n",
    "       writers AS w ON mw.writer_id = w.id\n",
    "       JOIN\n",
    "       movies AS m ON mw.movie_id = m.id\n",
    " WHERE m.year = 2018\n",
    " GROUP BY w.id\n",
    " ORDER BY count( * ) DESC LIMIT 1;\n",
    "\"\"\")\n",
    "cursor.fetchall()"
   ]
  },
  {
   "cell_type": "markdown",
   "metadata": {},
   "source": [
    "* What is the name of the actor or actress in the database that has been credited the most between 2010 and 2015 (inclusive)?"
   ]
  },
  {
   "cell_type": "code",
   "execution_count": null,
   "metadata": {},
   "outputs": [],
   "source": [
    "cursor.execute(\"\"\"\n",
    "SELECT a.name,\n",
    "       count( * ) \n",
    "  FROM movie_actors AS ma\n",
    "       JOIN\n",
    "       actors AS a ON ma.actor_id = a.id\n",
    "       JOIN\n",
    "       movies AS m ON ma.movie_id = m.id\n",
    " WHERE m.year >= 2010 AND m.year <= 2015\n",
    " GROUP BY a.id\n",
    " ORDER BY count( * ) DESC LIMIT 1;\n",
    "\"\"\")\n",
    "cursor.fetchall()"
   ]
  },
  {
   "cell_type": "markdown",
   "metadata": {},
   "source": [
    "* What are the names of all actors who performed in more than 3 movies in 2010?"
   ]
  },
  {
   "cell_type": "code",
   "execution_count": null,
   "metadata": {},
   "outputs": [],
   "source": [
    "cursor.execute(\"\"\"\n",
    "SELECT a.name\n",
    "  FROM movie_actors AS ma\n",
    "       JOIN\n",
    "       movies AS m ON ma.movie_id = m.id\n",
    "       JOIN\n",
    "       actors AS a ON ma.actor_id = a.id\n",
    "   WHERE m.year = 2010\n",
    "   GROUP BY a.name\n",
    "   HAVING COUNT(*) > 3;\n",
    "\"\"\")\n",
    "cursor.fetchall()"
   ]
  },
  {
   "cell_type": "markdown",
   "metadata": {},
   "source": [
    "* What studio has Steven Spielberg worked with the most?"
   ]
  },
  {
   "cell_type": "code",
   "execution_count": null,
   "metadata": {},
   "outputs": [],
   "source": [
    "cursor.execute(\"\"\"\n",
    "SELECT m.studio,\n",
    "       COUNT( * ) \n",
    "  FROM movie_directors AS md\n",
    "       JOIN\n",
    "       movies AS m ON md.movie_id = m.id\n",
    "       JOIN\n",
    "       directors AS d ON md.director_id = d.id\n",
    " WHERE d.name = \"Steven Spielberg\"\n",
    " GROUP BY m.studio\n",
    " ORDER BY COUNT( * ) DESC\n",
    " LIMIT 1;\n",
    "\"\"\")\n",
    "cursor.fetchall()"
   ]
  },
  {
   "cell_type": "markdown",
   "metadata": {},
   "source": [
    "* What years did Steven Spielberg direct 2 movies?"
   ]
  },
  {
   "cell_type": "code",
   "execution_count": null,
   "metadata": {},
   "outputs": [],
   "source": [
    "cursor.execute(\"\"\"\n",
    "SELECT m.year,\n",
    "       COUNT( * ) \n",
    "  FROM movie_directors AS md\n",
    "       JOIN\n",
    "       movies AS m ON md.movie_id = m.id\n",
    "       JOIN\n",
    "       directors AS d ON md.director_id = d.id\n",
    " WHERE d.name = \"Steven Spielberg\"\n",
    " GROUP BY m.year\n",
    " HAVING COUNT(*) = 2;\n",
    "\"\"\")\n",
    "cursor.fetchall()"
   ]
  },
  {
   "cell_type": "markdown",
   "metadata": {},
   "source": [
    "* How many movies has each of the actors from Toy Story been in? (movie ID is 3648)"
   ]
  },
  {
   "cell_type": "code",
   "execution_count": null,
   "metadata": {},
   "outputs": [],
   "source": [
    "cursor.execute(\"\"\"\n",
    "SELECT c.name,\n",
    "       COUNT( * ) \n",
    "  FROM (\n",
    "           SELECT actor_id\n",
    "             FROM movie_actors\n",
    "            WHERE movie_id = 3648\n",
    "       )\n",
    "       AS a\n",
    "       JOIN\n",
    "       movie_actors AS b ON a.actor_id = b.actor_id\n",
    "       JOIN\n",
    "       actors c ON a.actor_id = c.id\n",
    " GROUP BY a.actor_id;\n",
    "\"\"\")\n",
    "cursor.fetchall()"
   ]
  },
  {
   "cell_type": "markdown",
   "metadata": {},
   "source": [
    "* What are the names of other movies the director of Toy Story directed? (movie ID is 3648)"
   ]
  },
  {
   "cell_type": "code",
   "execution_count": null,
   "metadata": {},
   "outputs": [],
   "source": [
    "cursor.execute(\"\"\"\n",
    "SELECT title \n",
    "  FROM (\n",
    "           SELECT director_id\n",
    "             FROM movie_directors\n",
    "            WHERE movie_id = 3648\n",
    "       )\n",
    "       AS a\n",
    "       JOIN\n",
    "       movie_directors AS b ON a.director_id = b.director_id\n",
    "       JOIN\n",
    "       movies c ON b.movie_id = c.id;\n",
    "\"\"\")\n",
    "cursor.fetchall()"
   ]
  },
  {
   "cell_type": "markdown",
   "metadata": {},
   "source": [
    "* What are the names of all the directors Tom Hanks has worked with? (actor id 189)"
   ]
  },
  {
   "cell_type": "code",
   "execution_count": null,
   "metadata": {},
   "outputs": [],
   "source": [
    "cursor.execute(\"\"\"\n",
    "SELECT DISTINCT c.name \n",
    "  FROM (\n",
    "           SELECT movie_id\n",
    "             FROM movie_actors\n",
    "            WHERE actor_id = 189\n",
    "       )\n",
    "       AS a\n",
    "       JOIN\n",
    "       movie_directors AS b ON a.movie_id = b.movie_id\n",
    "       JOIN\n",
    "       directors c ON b.director_id = c.id;\n",
    "\"\"\")\n",
    "cursor.fetchall()"
   ]
  },
  {
   "cell_type": "markdown",
   "metadata": {},
   "source": [
    "* What is the name of the director Tom Hanks has worked with the most?"
   ]
  },
  {
   "cell_type": "code",
   "execution_count": null,
   "metadata": {},
   "outputs": [],
   "source": [
    "cursor.execute(\"\"\"\n",
    "SELECT c.name, COUNT(*) \n",
    "  FROM (\n",
    "           SELECT movie_id\n",
    "             FROM movie_actors\n",
    "            WHERE actor_id = 189\n",
    "       )\n",
    "       AS a\n",
    "       JOIN\n",
    "       movie_directors AS b ON a.movie_id = b.movie_id\n",
    "       JOIN\n",
    "       directors c ON b.director_id = c.id\n",
    "    GROUP BY c.name\n",
    "    ORDER BY COUNT(*) DESC LIMIT 1;\n",
    "\"\"\")\n",
    "cursor.fetchall()"
   ]
  },
  {
   "cell_type": "markdown",
   "metadata": {},
   "source": [
    "* What are the names of all the writers Tom Hanks has worked with?"
   ]
  },
  {
   "cell_type": "code",
   "execution_count": null,
   "metadata": {},
   "outputs": [],
   "source": [
    "cursor.execute(\"\"\"\n",
    "SELECT DISTINCT c.name \n",
    "  FROM (\n",
    "           SELECT movie_id\n",
    "             FROM movie_actors\n",
    "            WHERE actor_id = 189\n",
    "       )\n",
    "       AS a\n",
    "       JOIN\n",
    "       movie_writers AS b ON a.movie_id = b.movie_id\n",
    "       JOIN\n",
    "       writers c ON b.writer_id = c.id;\n",
    "\"\"\")\n",
    "cursor.fetchall()"
   ]
  }
 ],
 "metadata": {
  "kernelspec": {
   "display_name": "Python 3",
   "language": "python",
   "name": "python3"
  },
  "language_info": {
   "codemirror_mode": {
    "name": "ipython",
    "version": 3
   },
   "file_extension": ".py",
   "mimetype": "text/x-python",
   "name": "python",
   "nbconvert_exporter": "python",
   "pygments_lexer": "ipython3",
   "version": "3.7.4"
  }
 },
 "nbformat": 4,
 "nbformat_minor": 4
}
