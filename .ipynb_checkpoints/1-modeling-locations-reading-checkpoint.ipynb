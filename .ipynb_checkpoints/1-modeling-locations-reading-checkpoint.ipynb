{
 "cells": [
  {
   "cell_type": "markdown",
   "id": "29f768b9-2bfb-4c15-9b13-2a4947993193",
   "metadata": {},
   "source": [
    "# Modeling Locations Explained"
   ]
  },
  {
   "cell_type": "markdown",
   "id": "af018c62-ee88-4815-9cbd-0d1bd707df2a",
   "metadata": {},
   "source": [
    "### Introduction"
   ]
  },
  {
   "cell_type": "markdown",
   "id": "8a80b791-9f9f-4eb9-99f9-9f15e7f22ae0",
   "metadata": {},
   "source": [
    "In the lesson, we practiced modeling the following data."
   ]
  },
  {
   "cell_type": "code",
   "execution_count": 1,
   "id": "b934ed9b-45c7-46d1-a114-f4083aec7d8f",
   "metadata": {},
   "outputs": [],
   "source": [
    "location_info =  {'address': '125 Furman St',\n",
    "  'lat': 40.69957016220183,\n",
    "  'lng': -73.99793274204788,\n",
    "  'postalCode': '11201',\n",
    "  'cc': 'US',\n",
    "  'city': 'Brooklyn',\n",
    "  'state': 'NY',\n",
    "  'country': 'United States'}"
   ]
  },
  {
   "cell_type": "markdown",
   "id": "7acd8875-4073-4fc8-b0df-ae08f5f81a4f",
   "metadata": {},
   "source": [
    "In this lesson, we'll walk through a good modeling scheme."
   ]
  },
  {
   "cell_type": "markdown",
   "id": "719d7ce9-d439-4339-8dee-5a9308065d00",
   "metadata": {},
   "source": [
    "### Identifying the primary table/join table"
   ]
  },
  {
   "cell_type": "markdown",
   "id": "7bf87d0c-008a-40d4-9ab6-809bd8b8d51b",
   "metadata": {},
   "source": [
    "So we started by pulling data from the Foursquare API and then deciding to begin focusing in on the location data.  The first step would be to identify the primary entity we are tracking here."
   ]
  },
  {
   "cell_type": "markdown",
   "id": "39e741e4-73ab-43e4-b256-cbf07ba810b9",
   "metadata": {},
   "source": [
    "<img src=\"./foursquare-original.png\" width=\"100%\">"
   ]
  },
  {
   "cell_type": "markdown",
   "id": "ee9314b6-ef2c-46f0-8723-3e25014ec579",
   "metadata": {},
   "source": [
    "Now, probably a second step is impose some order to these columns, placing similar columns together."
   ]
  },
  {
   "cell_type": "markdown",
   "id": "d87fb48b-cf14-4acf-8443-b42f8d17d37c",
   "metadata": {},
   "source": [
    "For example, country code and country should go together.  Are there any others?\n",
    "\n",
    "One more subtle combination is the latitude, longitude and street_address.  One reason why is that they are all entities that move together.  That is, when a venue's address changes the longitude and latitude will also change.  This is not as true of say a city or zipcode.  For example, the address can change but the city can remain the same.\n",
    "\n",
    "> **Takeaway**: When data modeling pay attention to attributes that are dependent on one another -- or that change together.  Above, longitude, latitude and address all seem to change together.\n",
    "\n",
    "Updating our data, it looks like the following:"
   ]
  },
  {
   "cell_type": "markdown",
   "id": "f64f6433-eed1-42c2-8946-87e94594fcce",
   "metadata": {},
   "source": [
    "<img src=\"./updated-data.png\" width=\"100%\">"
   ]
  },
  {
   "cell_type": "markdown",
   "id": "457425dc-5bee-439e-8d18-f456a2a479a0",
   "metadata": {},
   "source": [
    "### Looking for Repetition"
   ]
  },
  {
   "cell_type": "markdown",
   "id": "1362c80f-835f-41d7-b876-81062289d5aa",
   "metadata": {},
   "source": [
    "Ok, now it may make sense to fill in some sample data."
   ]
  },
  {
   "cell_type": "markdown",
   "id": "934bb7cc-2572-44fb-a6d9-4e82eff1d56e",
   "metadata": {},
   "source": [
    "<img src=\"./sample-data.png\" width=\"100%\">"
   ]
  },
  {
   "cell_type": "markdown",
   "id": "99a66ffd-aabb-4ded-8741-6c7ec3fb2272",
   "metadata": {},
   "source": [
    "Looking for sample data, we can begin to columns that would have repeating values.  Country and country code we can identify right away.  But there are others as well, city, state and zipcode are all entities that would repeat. \n",
    "\n",
    "Remember that we only want each value to show up once.  So seeing repeating values of `Brooklyn` would be a violation.  And we can remove this replication by breaking our repeating values into separate tables."
   ]
  },
  {
   "cell_type": "markdown",
   "id": "cc1bda1d-67d1-458f-aa8b-dafbed79eb05",
   "metadata": {},
   "source": [
    "<img src=\"./more-tables.png\" width=\"100%\">"
   ]
  },
  {
   "cell_type": "markdown",
   "id": "89f2d4a7-4883-4c2e-a276-b3dcd83872c3",
   "metadata": {},
   "source": [
    "So this time, we broke our data into separate tables.  This way, we can avoid ever having the text `Brooklyn` or `NY` more than once.  If we have multiple locations that are from brooklyn new york, we can represent them by associating `city_id` `1`, and `state_id`  `1`."
   ]
  },
  {
   "cell_type": "markdown",
   "id": "5dcc1240-802e-4faa-a6c5-1a0cb5e43a7f",
   "metadata": {},
   "source": [
    "> Notice however that we did not place `country_code` in a separate table but rather added it to the `country` table.  This is because whenever country changes, the country code changes as well.  So we can represent these by the same country record."
   ]
  },
  {
   "cell_type": "markdown",
   "id": "35d79e00-3458-409d-a1fb-5fcbebe7a8fb",
   "metadata": {},
   "source": [
    "### Reducing Repetition in Action"
   ]
  },
  {
   "cell_type": "markdown",
   "id": "ec554e3f-0828-4493-b89e-4c7c45bccc1a",
   "metadata": {},
   "source": [
    "Now imagine that we have two locations both from brooklyn.  We can see all of the repeated values involved."
   ]
  },
  {
   "cell_type": "markdown",
   "id": "037d4ff0-0bb2-413c-a72e-9d7b1ff3db3c",
   "metadata": {},
   "source": [
    "<img src=\"./repeat-data.png\" width=\"90%\">"
   ]
  },
  {
   "cell_type": "markdown",
   "id": "4bb46d71-ddb5-4d87-8f2e-5d8bed11dde7",
   "metadata": {},
   "source": [
    "But we can use our tables above to replace these with primary keys."
   ]
  },
  {
   "cell_type": "markdown",
   "id": "7cd70fc8-b098-468b-82ee-628e5bf54750",
   "metadata": {},
   "source": [
    "<img src=\"./foreign-keys.png\" width=\"100%\">"
   ]
  },
  {
   "cell_type": "markdown",
   "id": "ed82ff9c-a425-43d0-9f0b-7181712f6596",
   "metadata": {},
   "source": [
    "While this is an improvement, we are still not done.  The next thing to realize is that there are column values that will always go together.  For example, when we know the `zipcode_id`, we also know the `city_id`.  And when we know the `state_id` we also know the `country_id`.  So here we have repetition in pairs of column values, and this is repetition that we can also remove with the correct data modeling."
   ]
  },
  {
   "cell_type": "markdown",
   "id": "b7925286-0917-4869-9d9a-56f4022e51b5",
   "metadata": {},
   "source": [
    "One way to do this is to begin to describe the relationships between these entities, zipcode, city, state and country."
   ]
  },
  {
   "cell_type": "markdown",
   "id": "30757d1a-7cb3-457f-8180-6749937d633c",
   "metadata": {},
   "source": [
    "\n",
    "* A zipcode has one city, and a city has many zipcodes\n",
    "* A city has one state and a state has many cities\n",
    "* A state has one country and a country has many states"
   ]
  },
  {
   "cell_type": "markdown",
   "id": "ccb53b15-7bcc-4ff9-bb9b-bf39f98e1e38",
   "metadata": {},
   "source": [
    "Remember that the foreign key always goes on the `has_one` relationship.  So for example, a zipcode has a `city_id` on it."
   ]
  },
  {
   "cell_type": "markdown",
   "id": "4c06d548-2b29-47a6-8421-7346dddb6083",
   "metadata": {},
   "source": [
    "When we're complete our modeling looks like the following."
   ]
  },
  {
   "cell_type": "markdown",
   "id": "451af235-fa0e-40cc-a43c-919451416b4d",
   "metadata": {},
   "source": [
    "<img src=\"./modeling.png\" width=\"80%\">"
   ]
  },
  {
   "cell_type": "markdown",
   "id": "38a4e9fa-6198-4391-b027-99cdb2ae305c",
   "metadata": {},
   "source": [
    "The above is the normalized form of our modeling.  By separating our zipcode, city, state and country into their own tables, we won't be repeating these values.  And by placing the foreign keys on the proper tables, we avoid repeating the connections say between NYC city and NY State."
   ]
  },
  {
   "cell_type": "markdown",
   "id": "a2a91e9d-245b-49a0-af8e-fac89d063a24",
   "metadata": {},
   "source": [
    "Let's take another look at this by viewing our these relationships in our spreadsheet."
   ]
  },
  {
   "cell_type": "markdown",
   "id": "75ffcee2-692c-4f6d-9470-a8d4411a2656",
   "metadata": {},
   "source": [
    "<img src=\"./modeling-excel.png\" width=\"100%\">"
   ]
  },
  {
   "cell_type": "markdown",
   "id": "e53f4c00-3fab-485a-a7bc-f03ad1181bfe",
   "metadata": {},
   "source": [
    "So notice that in the locations table in the top, we only have a location associated with a zipcode.  But by knowing the zipcode, we can then find the city, state, and country."
   ]
  },
  {
   "cell_type": "markdown",
   "id": "944bd4b4-67f8-4ed5-a3c6-3cd8ff0faaf1",
   "metadata": {},
   "source": [
    "### What about longitude and latitude"
   ]
  },
  {
   "cell_type": "markdown",
   "id": "5f670ec1-8363-4810-bcd1-f6e67d4c1eac",
   "metadata": {},
   "source": [
    "If we were being really specific, we could think about breaking out longitude and latitude to their own table.  But once again, longitude and latitude seem to change along with a street address changing.  So all of these attributes seem to go together.  Another way of thinking about it is that a latitude by itself does not really represent an entity the same way a city, state, zipcode, or country does.  It's the latitude and longitude together that represent a location, which is synonymous with the street address tied to the zip code."
   ]
  },
  {
   "cell_type": "markdown",
   "id": "88470302-9945-406b-ae8d-326a8910cf7f",
   "metadata": {},
   "source": [
    "### Summary"
   ]
  },
  {
   "cell_type": "markdown",
   "id": "de052442-aeab-4f9c-ae16-3bb81ee56ad2",
   "metadata": {},
   "source": [
    "In this lesson, we walked through the steps of modeling our location data in foursquare.  We used a couple of techniques to do so.\n",
    "\n",
    "We started by looking for repetition in the values of our data."
   ]
  },
  {
   "cell_type": "markdown",
   "id": "25bbff06-0e6b-47f0-8b9a-cfbe93d1a752",
   "metadata": {},
   "source": [
    "<img src=\"./repeat-data.png\" width=\"90%\">"
   ]
  },
  {
   "cell_type": "markdown",
   "id": "4a606686-901d-48fa-9bfe-9eb92fc1dbd7",
   "metadata": {},
   "source": [
    "And then we broke up this repetition to discover new tables."
   ]
  },
  {
   "cell_type": "markdown",
   "id": "75b241be-c3e6-4b96-a11b-02d20b6dd0c7",
   "metadata": {},
   "source": [
    "<img src=\"./more-tables.png\" width=\"100%\">"
   ]
  },
  {
   "cell_type": "markdown",
   "id": "c95374bc-22f3-4565-ba1d-9132408bc9fa",
   "metadata": {},
   "source": [
    "<img src=\"./foreign-keys.png\" width=\"100%\">"
   ]
  },
  {
   "cell_type": "markdown",
   "id": "d8c944ff-2598-4970-afde-5b37f80c1b6c",
   "metadata": {},
   "source": [
    "So while we are now writing each city and zipcode only once, on their respective tables, we now found more repetition in the *relations*.  For example a city of nyc always leads to a state of NY, and therefore when we see a city_id of 1 we see always state_id of 1.  This tells us that a city *belongs to* a state, and thus that's where the foreign key belongs.  So seeing this repetition, we wrote out our table relations leading to the following:"
   ]
  },
  {
   "cell_type": "markdown",
   "id": "28d2145b-6987-418d-a191-fd11aa4a9c3a",
   "metadata": {},
   "source": [
    "<img src=\"./modeling.png\" width=\"80%\">"
   ]
  },
  {
   "cell_type": "markdown",
   "id": "b86e9955-b217-42ab-8bcc-36704cae421c",
   "metadata": {},
   "source": [
    "And saw that we can now represent our data in excel with the following:"
   ]
  },
  {
   "cell_type": "markdown",
   "id": "687ed203-0b82-4b6c-bc2d-a5dbdad84410",
   "metadata": {},
   "source": [
    "<img src=\"./modeling-excel.png\" width=\"100%\">"
   ]
  }
 ],
 "metadata": {
  "kernelspec": {
   "display_name": "Python 3 (ipykernel)",
   "language": "python",
   "name": "python3"
  },
  "language_info": {
   "codemirror_mode": {
    "name": "ipython",
    "version": 3
   },
   "file_extension": ".py",
   "mimetype": "text/x-python",
   "name": "python",
   "nbconvert_exporter": "python",
   "pygments_lexer": "ipython3",
   "version": "3.9.10"
  }
 },
 "nbformat": 4,
 "nbformat_minor": 5
}
