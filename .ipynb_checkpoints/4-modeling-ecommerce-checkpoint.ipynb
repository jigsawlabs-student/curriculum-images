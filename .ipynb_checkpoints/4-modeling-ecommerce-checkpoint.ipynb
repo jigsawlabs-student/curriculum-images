{
 "cells": [
  {
   "cell_type": "markdown",
   "id": "9c0e731a-75fb-48ef-9c21-a4426cc6e430",
   "metadata": {},
   "source": [
    "# Modeling Transactions - (Ecommerce) "
   ]
  },
  {
   "cell_type": "markdown",
   "id": "8abcd02a-202c-4f91-8e25-b5938d35fd1d",
   "metadata": {},
   "source": [
    "### Introduction"
   ]
  },
  {
   "cell_type": "markdown",
   "id": "b1a770c6-491f-4683-aba2-980e8c8ce17a",
   "metadata": {},
   "source": [
    "A very typical usecase for designing a database is selling some kind of good or service.  In this lesson, we'll pretend that we have to design a database for Nike's ecommerce shoe division.  So we just have to perform data modeling to allow Nike to sell sneakers online."
   ]
  },
  {
   "cell_type": "markdown",
   "id": "d51094c4-7a0d-4a10-9083-71f58bdfb31d",
   "metadata": {},
   "source": [
    "### Sample Data"
   ]
  },
  {
   "cell_type": "markdown",
   "id": "f59f8c9a-0541-46b1-aa31-8aba0951f4b8",
   "metadata": {},
   "source": [
    "For our data, imagine we are given the following CSV file with some sample data."
   ]
  },
  {
   "cell_type": "markdown",
   "id": "3d680be4-e69f-4dc2-9ac2-5cdfb8c4ee06",
   "metadata": {},
   "source": [
    "[Data link](https://docs.google.com/spreadsheets/d/1AuTC1Me-Fm0_26VERGldctnThNrwWc8RbhIcAO4qa8c/edit#gid=0)"
   ]
  },
  {
   "cell_type": "markdown",
   "id": "00e8915a-a86a-44f5-8569-f5be2d517a58",
   "metadata": {},
   "source": [
    "<img src=\"./nike_data.png\" width=\"100%\">"
   ]
  },
  {
   "cell_type": "markdown",
   "id": "c891fa1f-69cf-4649-9ad4-25cdec911ac5",
   "metadata": {},
   "source": [
    "Model this data for a (OLTP) database."
   ]
  }
 ],
 "metadata": {
  "kernelspec": {
   "display_name": "Python 3 (ipykernel)",
   "language": "python",
   "name": "python3"
  },
  "language_info": {
   "codemirror_mode": {
    "name": "ipython",
    "version": 3
   },
   "file_extension": ".py",
   "mimetype": "text/x-python",
   "name": "python",
   "nbconvert_exporter": "python",
   "pygments_lexer": "ipython3",
   "version": "3.9.10"
  }
 },
 "nbformat": 4,
 "nbformat_minor": 5
}
