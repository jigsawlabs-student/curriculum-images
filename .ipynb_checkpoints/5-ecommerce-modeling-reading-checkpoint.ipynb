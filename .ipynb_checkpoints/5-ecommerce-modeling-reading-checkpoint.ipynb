{
 "cells": [
  {
   "cell_type": "markdown",
   "id": "9850dab1-8315-4698-b1b2-2000c09506e5",
   "metadata": {},
   "source": [
    "# Ecommerce Modeling Reading"
   ]
  },
  {
   "cell_type": "markdown",
   "id": "0ca8ed45-fda9-4387-8d1e-b3e529877b52",
   "metadata": {},
   "source": [
    "### Introduction"
   ]
  },
  {
   "cell_type": "markdown",
   "id": "27e5dd2b-d0c5-460a-b234-eef8513f071b",
   "metadata": {},
   "source": [
    "In the last lesson we were given a common use case of database modeling to store customer orders -- in this case, sneaker orders.\n"
   ]
  },
  {
   "cell_type": "markdown",
   "id": "3f28d9cd-b680-4d3b-bacd-5ba8b9156219",
   "metadata": {},
   "source": [
    "We started with data like the following:"
   ]
  },
  {
   "cell_type": "markdown",
   "id": "5bb2eec5-340f-4f65-b978-1c3c8e3478d5",
   "metadata": {},
   "source": [
    "<img src=\"./nike_data.png\" width=\"100%\">"
   ]
  },
  {
   "cell_type": "markdown",
   "id": "f3f950dc-c9ee-4240-a375-0c37387f815e",
   "metadata": {},
   "source": [
    "[Data link](https://docs.google.com/spreadsheets/d/1AuTC1Me-Fm0_26VERGldctnThNrwWc8RbhIcAO4qa8c/edit#gid=0)"
   ]
  },
  {
   "cell_type": "markdown",
   "id": "2205d39e-fd7b-4bb1-bdc6-d0aedaa35a49",
   "metadata": {},
   "source": [
    "And ideally we would wind up with modeling that looks like the following."
   ]
  },
  {
   "cell_type": "markdown",
   "id": "707a7b01-b464-4385-9a38-de7bfa80628c",
   "metadata": {},
   "source": [
    "<img src=\"./nike-modeling.png\">"
   ]
  },
  {
   "cell_type": "markdown",
   "id": "59a3e1b5-5523-444a-bafb-390ec442ceb2",
   "metadata": {},
   "source": [
    "In this lesson, we'll see how we got there."
   ]
  },
  {
   "cell_type": "markdown",
   "id": "e8f2db5f-15db-44b3-8777-c9e56114fe78",
   "metadata": {},
   "source": [
    "### Beginning our Modeling"
   ]
  },
  {
   "cell_type": "markdown",
   "id": "dc1e2b9c-c06e-485b-9f16-54fc411a6d96",
   "metadata": {},
   "source": [
    "When performing a data modeling problem like the above, there is a *transaction* that brings brings together different entities.  Here, the transaction is a purchase.\n",
    "\n",
    "And we can begin to break up the entities with the who, what, and where questions.  Doing so, we can begin to identify a couple of initial tables:"
   ]
  },
  {
   "cell_type": "markdown",
   "id": "3f3f8e82-fbe9-410c-bb3e-df260a0b64f6",
   "metadata": {},
   "source": [
    "> The names of the different tables may vary."
   ]
  },
  {
   "cell_type": "markdown",
   "id": "2be2a922-587e-46e0-befc-a7407d77e70d",
   "metadata": {},
   "source": [
    "<img src=\"./id-products.png\" width=\"70%\">"
   ]
  },
  {
   "cell_type": "markdown",
   "id": "bf89670d-0603-4605-aa58-7c46c81aa37a",
   "metadata": {},
   "source": [
    "> **Notice that** we got the above, by thinking about different entities like who and what.  But, we could have gotten to the same place by identifying repetition in our tables.  For example, in our original data the products show up multiple times.  And if we imagine a user returned to our website and made another purchase, we would see that information repeated as well."
   ]
  },
  {
   "cell_type": "markdown",
   "id": "cb78a67b-f7eb-4b36-909e-f7c208fe7a3b",
   "metadata": {},
   "source": [
    "> <img src=\"./dup-data.png\" width=\"100%\">"
   ]
  },
  {
   "cell_type": "markdown",
   "id": "ddf2adae-523c-4646-9b81-74b2b6bf0311",
   "metadata": {},
   "source": [
    "### Connecting the tables"
   ]
  },
  {
   "cell_type": "markdown",
   "id": "1095fdf3-722b-4611-a0e1-0803cf65c1b5",
   "metadata": {},
   "source": [
    "So now that we have our users and products, the next step may be to consider the relationship between them."
   ]
  },
  {
   "cell_type": "markdown",
   "id": "7503ffed-6a86-4dc9-a6c3-a3d8be2a32f5",
   "metadata": {},
   "source": [
    "<img src=\"./id-products.png\" width=\"70%\">"
   ]
  },
  {
   "cell_type": "markdown",
   "id": "4dc55151-498b-4a33-8392-1057be330592",
   "metadata": {},
   "source": [
    "A user has many products, and products have many users (defined by all of the users who purchase the product).  So we can place a join table to connect these, but really that connection is defined by another entity: an order."
   ]
  },
  {
   "cell_type": "markdown",
   "id": "3aab4703-ac79-41c6-9c92-692a54c2e8ca",
   "metadata": {},
   "source": [
    "> Take a look at our updated data modeling below."
   ]
  },
  {
   "cell_type": "markdown",
   "id": "f7831b62-4aa5-465a-9b36-6dfb70d6dcd9",
   "metadata": {},
   "source": [
    "<img src=\"./users-orders.png\" width=\"100%\">"
   ]
  },
  {
   "cell_type": "markdown",
   "id": "087ccdfc-ed9d-441b-8188-99dd79abebf5",
   "metadata": {},
   "source": [
    "So we can see that with the first order, a user bought jordans 22 for 125 dollars.  And with the second, the user bought pegasus 12 for 100 dollars."
   ]
  },
  {
   "cell_type": "markdown",
   "id": "268e6908-54dd-4932-bfd8-0cd5eb5bfc6e",
   "metadata": {},
   "source": [
    "### One more table"
   ]
  },
  {
   "cell_type": "markdown",
   "id": "8333e563-5937-4854-866a-e3e805a3c250",
   "metadata": {},
   "source": [
    "Looking at the current structure, you may notice a small problem."
   ]
  },
  {
   "cell_type": "markdown",
   "id": "950d774f-b65a-4c3f-bbb1-c782c1c59262",
   "metadata": {},
   "source": [
    "<img src=\"./users-orders.png\" width=\"100%\">"
   ]
  },
  {
   "cell_type": "markdown",
   "id": "385899d5-8e7b-4544-9b5e-7d059d011b2e",
   "metadata": {},
   "source": [
    "This is that when we would describe what happened in the first two orders, we would likely describe this as one purchase of two items.\n",
    "\n",
    "This suggests that there should be an additional table -- like *line items*, and in that first order we would represent that as one order with two different line items of jordans and pegasus 12.  \n",
    "> You can think of line item, as each individual item on a receipt, and the order is recorded in that receipt.\n",
    "\n",
    "So with our updated data modeling, we would describe this as an order has many line items, and a line item belongs to an order."
   ]
  },
  {
   "cell_type": "markdown",
   "id": "7615eccb-ccff-44ed-8308-ee67831f691e",
   "metadata": {},
   "source": [
    "With this update, now our data will look like the following:"
   ]
  },
  {
   "cell_type": "markdown",
   "id": "011c976c-a8e9-4afc-a54b-a62f7774d431",
   "metadata": {},
   "source": [
    "<img src=\"./purchases.png\" width=\"100%\">"
   ]
  },
  {
   "cell_type": "markdown",
   "id": "db0f7f6f-5ffe-466d-ab6d-0d9f2c21ef0b",
   "metadata": {},
   "source": [
    "So now if we tell a story with this data, looking at orders, we can see that user 1 made two orders.  One on 1/1/22 and another on 10/1/22.  To see what he bought in the first order, we look at the line_items table and see he bought jordans 22 and pegasus 12 in the first order."
   ]
  },
  {
   "cell_type": "markdown",
   "id": "f69c2212-e568-4895-a36e-4584c53bbba1",
   "metadata": {},
   "source": [
    "### Another route to line items"
   ]
  },
  {
   "cell_type": "markdown",
   "id": "eef8992e-9950-4c16-bbb0-74cde3360eb8",
   "metadata": {},
   "source": [
    "So above we identified the line items table mainly because it simply did not sound right to say that a user bought two different items on the same date.  It seemed like something was missing -- and that was that an order had many line items.\n",
    "\n",
    "But we could have seen this issue another way.  And that is our old technique of looking for repetition in the data."
   ]
  },
  {
   "cell_type": "markdown",
   "id": "5d0e8cc6-9dd2-4e1a-acfd-18e602a67cd0",
   "metadata": {},
   "source": [
    "<img src=\"./users-orders.png\" width=\"100%\">"
   ]
  },
  {
   "cell_type": "markdown",
   "id": "996d35b6-6e18-4468-8e4d-0cda03b5381b",
   "metadata": {},
   "source": [
    "We can see that repetition in the first two items in the orders table.  Notice that user_id and purchase_date have the same values for orders 1 and 2.  This is indicating these orders are part of the same thing which is currently not represented in our data model, and that is a that they are two line items from the same order."
   ]
  },
  {
   "cell_type": "markdown",
   "id": "efb3966b-aa8b-489d-a785-0f8760dfe6aa",
   "metadata": {},
   "source": [
    "Our final data modeling looks like the following."
   ]
  },
  {
   "cell_type": "markdown",
   "id": "24a62f67-e5bc-447a-a664-6c69b0268fb0",
   "metadata": {},
   "source": [
    "<img src=\"./nike-modeling.png\" width=\"100%\">"
   ]
  }
 ],
 "metadata": {
  "kernelspec": {
   "display_name": "Python 3 (ipykernel)",
   "language": "python",
   "name": "python3"
  },
  "language_info": {
   "codemirror_mode": {
    "name": "ipython",
    "version": 3
   },
   "file_extension": ".py",
   "mimetype": "text/x-python",
   "name": "python",
   "nbconvert_exporter": "python",
   "pygments_lexer": "ipython3",
   "version": "3.9.10"
  }
 },
 "nbformat": 4,
 "nbformat_minor": 5
}
