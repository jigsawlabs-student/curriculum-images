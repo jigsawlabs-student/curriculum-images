{
 "cells": [
  {
   "cell_type": "markdown",
   "id": "f731f6b1-acd0-49bc-bd0e-2d6e6aff9bdd",
   "metadata": {},
   "source": [
    "# Modeling Tickets"
   ]
  },
  {
   "cell_type": "markdown",
   "id": "a4279365-199c-49d6-94e4-a6954c1695cf",
   "metadata": {},
   "source": [
    "* Look at Miro SQL modeling"
   ]
  },
  {
   "cell_type": "code",
   "execution_count": null,
   "id": "e27b9011-22fb-4d0a-b2c6-393144a85c7b",
   "metadata": {},
   "outputs": [],
   "source": []
  }
 ],
 "metadata": {
  "kernelspec": {
   "display_name": "Python 3 (ipykernel)",
   "language": "python",
   "name": "python3"
  },
  "language_info": {
   "codemirror_mode": {
    "name": "ipython",
    "version": 3
   },
   "file_extension": ".py",
   "mimetype": "text/x-python",
   "name": "python",
   "nbconvert_exporter": "python",
   "pygments_lexer": "ipython3",
   "version": "3.9.10"
  }
 },
 "nbformat": 4,
 "nbformat_minor": 5
}
