{
 "cells": [
  {
   "cell_type": "markdown",
   "id": "44350f46-ced3-44e4-98bd-4dda7a9b8965",
   "metadata": {},
   "source": [
    "# Modeling belongs to "
   ]
  },
  {
   "cell_type": "markdown",
   "id": "5afee414-2c23-48ef-be23-8b95430644c2",
   "metadata": {},
   "source": [
    "### Introduction"
   ]
  },
  {
   "cell_type": "markdown",
   "id": "9146dd44-8805-4cfb-b84b-53ec57e9fcfc",
   "metadata": {},
   "source": [
    "In this lesson, we'll practice doing some data modeling.  Engineers will sometimes refer to data modeling as representing the *schema*.  The schema is the overall structure of tables in a database.\n",
    "\n",
    "### Reviewing data modeling\n",
    "\n",
    "Remember that the main rule when data modeling is that the relationship that has a belongs to will have the foreign key. \n",
    "\n",
    "For example, let's take our artists and songs example.  Assume that a song has one artist, and an artist has many songs.  Our tables would look like the following:"
   ]
  },
  {
   "cell_type": "markdown",
   "id": "3ce474e0-eb2f-4651-b248-4a3570f11d21",
   "metadata": {},
   "source": [
    "<img src=\"./artists-songs.png\" width=\"100%\">"
   ]
  },
  {
   "cell_type": "markdown",
   "id": "2c09f69e-855e-4bcf-8082-e8e882b46c02",
   "metadata": {},
   "source": [
    "Notice that by placing the foreign key of `artist_id` on the songs table, we are limiting a song to have just one artist.  If you look at a song, we know who the artist is -- it's represented by the artist id.  \n",
    "\n",
    "If we look at an artist by contrast, there is no foreign key in the artists table.  So, by contrast, we can find an artist like paul simon's songs by finding all records with a matching `artist_id` of 1.  So to review, placing the artist_id on the songs table means that a song has just one artist.  And because there is no foreign key on artists, and artist can have many songs."
   ]
  },
  {
   "cell_type": "markdown",
   "id": "399c84bd-4201-4a0a-8c71-99162067e99e",
   "metadata": {},
   "source": [
    "### More Practice Problems"
   ]
  },
  {
   "cell_type": "markdown",
   "id": "ab0f6e9f-da88-4145-a533-9315f2b904f4",
   "metadata": {},
   "source": [
    "1. Weather forecasts"
   ]
  },
  {
   "cell_type": "markdown",
   "id": "50fcb48f-a0df-483d-819a-e88131304aa7",
   "metadata": {},
   "source": [
    "* Separate the below table into two tables, cities and forecasts.  Write out the columns for each, and describe the relationships.\n",
    "\n",
    "* Write out some sample data in a spreadsheet."
   ]
  },
  {
   "cell_type": "markdown",
   "id": "8a1bd998-8874-49b8-9011-6d0fac43e17b",
   "metadata": {},
   "source": [
    "<img src=\"./weather-forecasts.png\" width=\"80%\">"
   ]
  },
  {
   "cell_type": "markdown",
   "id": "d14bc26c-59af-4172-8e3d-9bcfeac08586",
   "metadata": {},
   "source": [
    "* Then write out the query to select all of the weather forecasts for new york city from the new tables."
   ]
  },
  {
   "cell_type": "markdown",
   "id": "e021dd46-db50-42d4-957f-bc5e52e083a1",
   "metadata": {},
   "source": [
    "2. Toys and Kids"
   ]
  },
  {
   "cell_type": "markdown",
   "id": "b8221fec-d650-4a57-a1bb-b35e1f613b55",
   "metadata": {},
   "source": [
    "Now break out the following data into two tables."
   ]
  },
  {
   "cell_type": "markdown",
   "id": "fae634f3-0f2e-460e-985f-4b932032024e",
   "metadata": {},
   "source": [
    "<img src=\"./kids-toys.png\" width=\"60%\">"
   ]
  },
  {
   "cell_type": "markdown",
   "id": "f630d003-0a17-4fad-a4c3-868db9e00c9a",
   "metadata": {},
   "source": [
    "Then write a sql query to find all of the toys of sally."
   ]
  }
 ],
 "metadata": {
  "kernelspec": {
   "display_name": "Python 3 (ipykernel)",
   "language": "python",
   "name": "python3"
  },
  "language_info": {
   "codemirror_mode": {
    "name": "ipython",
    "version": 3
   },
   "file_extension": ".py",
   "mimetype": "text/x-python",
   "name": "python",
   "nbconvert_exporter": "python",
   "pygments_lexer": "ipython3",
   "version": "3.9.10"
  }
 },
 "nbformat": 4,
 "nbformat_minor": 5
}
