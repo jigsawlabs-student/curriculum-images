{
 "cells": [
  {
   "cell_type": "markdown",
   "id": "c58acc2c-0bbc-4bd2-ae9a-5ca979da69ec",
   "metadata": {},
   "source": [
    "# Moe's Bar Lab?"
   ]
  },
  {
   "cell_type": "code",
   "execution_count": null,
   "id": "bfd4ba84-4157-4469-8d00-89de49e63cd1",
   "metadata": {},
   "outputs": [],
   "source": []
  }
 ],
 "metadata": {
  "kernelspec": {
   "display_name": "Python 3 (ipykernel)",
   "language": "python",
   "name": "python3"
  },
  "language_info": {
   "codemirror_mode": {
    "name": "ipython",
    "version": 3
   },
   "file_extension": ".py",
   "mimetype": "text/x-python",
   "name": "python",
   "nbconvert_exporter": "python",
   "pygments_lexer": "ipython3",
   "version": "3.9.10"
  }
 },
 "nbformat": 4,
 "nbformat_minor": 5
}
