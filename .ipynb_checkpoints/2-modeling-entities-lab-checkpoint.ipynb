{
 "cells": [
  {
   "cell_type": "markdown",
   "id": "0f2a776c-210d-47bf-9da7-6d17c371747e",
   "metadata": {},
   "source": [
    "# Modeling Foursquare Venues"
   ]
  },
  {
   "cell_type": "markdown",
   "id": "c52036e0-d3ff-4bc0-9f3f-caf986127830",
   "metadata": {},
   "source": [
    "### Introduction"
   ]
  },
  {
   "cell_type": "markdown",
   "id": "0fd165f0-81fc-49e7-870e-1e98fa9213af",
   "metadata": {},
   "source": [
    "In the last lesson, we modeled our location data from the foursquare api.  We did so by looking for repetition in the data, and then using separate tables to reduce that repetition.  \n",
    "\n",
    "In this lesson, we'll tackle modeling the rest of a foursquare venue.  \n",
    "\n",
    "Again, use the techniques of writing out some data and then using tables to reduce repetition in the data.  It's also useful to write out the `has_one` and `has_many` relations.\n",
    "\n",
    "Let's get started."
   ]
  },
  {
   "cell_type": "markdown",
   "id": "b00291d6-dc3a-4d6f-ad9d-49f14a7784e7",
   "metadata": {},
   "source": [
    "### Viewing our Foursquare data"
   ]
  },
  {
   "cell_type": "markdown",
   "id": "fb34a398-620b-4d9f-b985-1ef10ad8ad99",
   "metadata": {},
   "source": [
    "The rest of the relevant foursquare data looks like the following."
   ]
  },
  {
   "cell_type": "code",
   "execution_count": null,
   "id": "2f866f8d-4224-462f-b626-4f7651fc8186",
   "metadata": {},
   "outputs": [],
   "source": [
    "{'categories': [\n",
    "   'name': 'Bookstore',\n",
    "   'pluralName': 'Bookstores'}],\n",
    " 'id': '513a18937e2793d197a900d5',\n",
    " 'name': 'Barnes & Noble'}"
   ]
  },
  {
   "cell_type": "markdown",
   "id": "c614a539-f8bd-4b77-bb80-ef958d276e0e",
   "metadata": {},
   "source": [
    "So model this data, and connect the new tables to our existing location tables."
   ]
  },
  {
   "cell_type": "markdown",
   "id": "0110e3b2-9789-409d-a6f5-1bd1015dc352",
   "metadata": {},
   "source": [
    "<img src=\"./modeling.png\" width=\"80%\">"
   ]
  }
 ],
 "metadata": {
  "kernelspec": {
   "display_name": "Python 3 (ipykernel)",
   "language": "python",
   "name": "python3"
  },
  "language_info": {
   "codemirror_mode": {
    "name": "ipython",
    "version": 3
   },
   "file_extension": ".py",
   "mimetype": "text/x-python",
   "name": "python",
   "nbconvert_exporter": "python",
   "pygments_lexer": "ipython3",
   "version": "3.9.10"
  }
 },
 "nbformat": 4,
 "nbformat_minor": 5
}
