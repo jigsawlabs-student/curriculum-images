{
 "cells": [
  {
   "cell_type": "markdown",
   "id": "da037ef7-2c22-4b27-9160-443b91a9312a",
   "metadata": {},
   "source": [
    "# Modeling Entities Reading"
   ]
  },
  {
   "cell_type": "markdown",
   "id": "402075e3-907b-4559-8070-741e387e4037",
   "metadata": {},
   "source": [
    "### Introduction"
   ]
  },
  {
   "cell_type": "markdown",
   "id": "fa548a0c-bdf7-415c-aa01-8e1a43e7bf3f",
   "metadata": {},
   "source": [
    "In this lesson, we'll put together modeling of our entities.  Let's go.  "
   ]
  },
  {
   "cell_type": "markdown",
   "id": "d8b3982b-5881-453a-9a13-fe307365df54",
   "metadata": {},
   "source": [
    "### Reviewing our Data"
   ]
  },
  {
   "cell_type": "markdown",
   "id": "d85de5ba-2ca4-4005-9ad0-ff409f0a1ce8",
   "metadata": {},
   "source": [
    "We can start by taking another look at our remaining foursquare data."
   ]
  },
  {
   "cell_type": "code",
   "execution_count": 3,
   "id": "3ead21d1-7dbd-4de9-86b3-b982d1745daa",
   "metadata": {},
   "outputs": [],
   "source": [
    "bookstore = {'categories': [{\n",
    "   'name': 'Bookstore',\n",
    "   'pluralName': 'Bookstores'}],\n",
    " 'id': '513a18937e2793d197a900d5',\n",
    " 'name': 'Barnes & Noble'}"
   ]
  },
  {
   "cell_type": "markdown",
   "id": "77577310-fe52-4afa-a6b5-48373227b1a5",
   "metadata": {},
   "source": [
    "Looking at the information above, we can identify two main entities.  A venue, or a specific store, and the categories this venue relates to.  Each of these should be separate tables.  After all, if we did not separate them, we would quickly see repetition in our data."
   ]
  },
  {
   "cell_type": "markdown",
   "id": "b998fa29-8dd8-483f-a494-ab20c60ffaf3",
   "metadata": {},
   "source": [
    "<img src=\"./venue-category.png\" width=\"60%\">"
   ]
  },
  {
   "cell_type": "markdown",
   "id": "c5650e07-42d7-49ec-b39a-aed03320c890",
   "metadata": {},
   "source": [
    "> Notice above that `bookstore` appears twice."
   ]
  },
  {
   "cell_type": "markdown",
   "id": "9c2558e3-a426-493e-8e3f-4611d74a57bf",
   "metadata": {},
   "source": [
    "So instead we need to build a separate categories table. "
   ]
  },
  {
   "cell_type": "markdown",
   "id": "c10637ad-f7d2-49c4-95c3-5e9001d3a0b5",
   "metadata": {},
   "source": [
    "<img src=\"./categories-table.png\" width=\"40%\">"
   ]
  },
  {
   "cell_type": "markdown",
   "id": "ce95d055-845e-4bc0-aa85-a52ea4ce9e5d",
   "metadata": {},
   "source": [
    "Now the relationship between venues and categories is a many to many relationship.  After all, a category like bookstore would have many venues associated with it, and a venue may have many categories.  \n",
    "\n",
    "The many to many relationship means that we cannot place a foreign key on either the categories or the venues table, but rather must create a third, join table -- called `venues_categories`. "
   ]
  },
  {
   "cell_type": "markdown",
   "id": "4f2639b8-b53a-4cba-9350-7858da4fa7bc",
   "metadata": {},
   "source": [
    "<img src=\"./venue-categories.png\" width=\"100%\">"
   ]
  },
  {
   "cell_type": "markdown",
   "id": "0c6696c9-863e-4d2f-8157-5b206d0ac57a",
   "metadata": {},
   "source": [
    "So above, we associate barnes and noble with categories through the `venues_categories` table.  We can see that barnes and noble has categories of both bookstore and coffee.  While borders only has the bookstore category."
   ]
  },
  {
   "cell_type": "markdown",
   "id": "a8f4eec4-df27-4e8b-9169-f363075fb2d1",
   "metadata": {},
   "source": [
    "### Connecting to our location data"
   ]
  },
  {
   "cell_type": "markdown",
   "id": "ffa00a71-8776-4b5c-a51d-1607529307b0",
   "metadata": {},
   "source": [
    "Now we can connect our venue data to the location by adding a `location_id` column to venue.  \n",
    "\n",
    "> So here we would say that a venue `has_one` location, and also a location `has_one` venue.  We only have to place the foreign key on one of the tables to make the association.  We place it on venue_id because we want to tie a venue to a particular location."
   ]
  },
  {
   "cell_type": "markdown",
   "id": "a4aaa9b4-9057-4374-b5d8-ea4494f128c4",
   "metadata": {},
   "source": [
    "<img src=\"./foursquare-modeling.png\" width=\"60%\">"
   ]
  },
  {
   "cell_type": "markdown",
   "id": "6b59f5c6-b9fb-44b0-9bda-f615f4f2d900",
   "metadata": {},
   "source": [
    "If a location has one venue, and a location `has_one` venue, why not just combine the two tables.  Engineers may model differently, but to me, when we have three or four columns that go together, it justifies grouping those columns in a separate table.  This keeps our tables more small and understandable."
   ]
  },
  {
   "cell_type": "markdown",
   "id": "46da7049-e854-4096-8ef5-220272f0a061",
   "metadata": {},
   "source": [
    "So the above is a good first pass at modeling our data."
   ]
  },
  {
   "cell_type": "markdown",
   "id": "ace062e3-8337-4aa4-9bb5-34a00d8cd998",
   "metadata": {},
   "source": [
    "### Bonus: Another table?"
   ]
  },
  {
   "cell_type": "markdown",
   "id": "a7427500-c42a-436e-8fa3-ff13be39bc01",
   "metadata": {},
   "source": [
    "<img src=\"./venue-categories.png\" width=\"100%\">"
   ]
  },
  {
   "cell_type": "markdown",
   "id": "0c10baa2-d12f-4991-8d40-5f9f4de97b5e",
   "metadata": {},
   "source": [
    "Now if you look at the venue data above, can you see any other opportunity for repetition?  Well think about if there are multiple barnes and nobles.  We probably would like to reduce this repetition (and perhaps a way to track identify all of the barnes and nobles).  \n",
    "\n",
    "We could fix this by creating a `chains` table.  "
   ]
  },
  {
   "cell_type": "markdown",
   "id": "115324db-55bf-40eb-a216-219093cb05d8",
   "metadata": {},
   "source": [
    "And thinking through the relationships, we would say that a chain has many restaurants and a restaurant has one chain.  \n",
    "\n",
    "> For those restaurants that do not have a chain, we can have an `chains.id` that points to the value n/a (not applicable)."
   ]
  },
  {
   "cell_type": "markdown",
   "id": "25c805b7-9654-4be2-8ec5-63041fdfaa39",
   "metadata": {},
   "source": [
    "Performing this modeling, it looks like the following."
   ]
  },
  {
   "cell_type": "markdown",
   "id": "f529a3ef-697b-41ec-90e9-f7541a1b1004",
   "metadata": {},
   "source": [
    "<img src=\"./venues-chains.png\" width=\"60%\">"
   ]
  },
  {
   "cell_type": "markdown",
   "id": "d57af396-9532-44ca-81ed-12ef2a39d619",
   "metadata": {},
   "source": [
    "> With the modeling above, we still may have the name under venues repeated multiple times.  But the important part is that we identified this repetition as indicating a missing entity in our data modeling -- chain."
   ]
  }
 ],
 "metadata": {
  "kernelspec": {
   "display_name": "Python 3 (ipykernel)",
   "language": "python",
   "name": "python3"
  },
  "language_info": {
   "codemirror_mode": {
    "name": "ipython",
    "version": 3
   },
   "file_extension": ".py",
   "mimetype": "text/x-python",
   "name": "python",
   "nbconvert_exporter": "python",
   "pygments_lexer": "ipython3",
   "version": "3.9.10"
  }
 },
 "nbformat": 4,
 "nbformat_minor": 5
}
