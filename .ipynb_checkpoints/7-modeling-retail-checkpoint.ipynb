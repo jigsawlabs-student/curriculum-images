{
 "cells": [
  {
   "cell_type": "markdown",
   "id": "b9331cb8-f9d6-49d8-a115-03ddc8fb2d21",
   "metadata": {},
   "source": [
    "# Modeling Retail"
   ]
  },
  {
   "cell_type": "markdown",
   "id": "f91db877-f5af-4d8b-bfc9-fca02725b498",
   "metadata": {},
   "source": [
    "[sakila](https://github.com/jOOQ/sakila)"
   ]
  },
  {
   "cell_type": "code",
   "execution_count": null,
   "id": "5737d3c4-f7e7-44a5-ae0e-b10c3051552f",
   "metadata": {},
   "outputs": [],
   "source": []
  }
 ],
 "metadata": {
  "kernelspec": {
   "display_name": "Python 3 (ipykernel)",
   "language": "python",
   "name": "python3"
  },
  "language_info": {
   "codemirror_mode": {
    "name": "ipython",
    "version": 3
   },
   "file_extension": ".py",
   "mimetype": "text/x-python",
   "name": "python",
   "nbconvert_exporter": "python",
   "pygments_lexer": "ipython3",
   "version": "3.9.10"
  }
 },
 "nbformat": 4,
 "nbformat_minor": 5
}
