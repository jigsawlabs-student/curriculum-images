{
 "cells": [
  {
   "cell_type": "markdown",
   "id": "ffcee6fd-5a17-42d4-9fd6-ebde7e554121",
   "metadata": {},
   "source": [
    "# SQL Modeling with Location Data"
   ]
  },
  {
   "cell_type": "markdown",
   "id": "93ac13ca-e598-475f-b416-711b315c92db",
   "metadata": {},
   "source": [
    "### Introduction"
   ]
  },
  {
   "cell_type": "markdown",
   "id": "d5020c2f-6d65-40ce-8065-47f85e2c5115",
   "metadata": {},
   "source": [
    "In this lesson, we'll begin practice modeling data for an OLTP database.  The main rule for an OLTP database is that we want a single source of truth.  In other words, each entity should only be represented once.  Let's get started.  "
   ]
  },
  {
   "cell_type": "markdown",
   "id": "5c32c84b-f049-4b83-989e-ccf31c517ef7",
   "metadata": {},
   "source": [
    "### Seeing our Data"
   ]
  },
  {
   "cell_type": "markdown",
   "id": "76db4501-489b-42ec-aeaf-c7d5d9025733",
   "metadata": {},
   "source": [
    "To model this data, let's use data from the foursquare API.  This is data of a sample venue."
   ]
  },
  {
   "cell_type": "code",
   "execution_count": 6,
   "id": "c788cc04-225c-4caa-8ce0-7261a3769b49",
   "metadata": {},
   "outputs": [],
   "source": [
    "ny_venue = {'id': '51eabef6498e10cf3aea7942',\n",
    " 'name': 'Brooklyn Bridge Park - Pier 2',\n",
    " 'location': {'address': 'Furman St',\n",
    "  'crossStreet': 'Brooklyn Bridge Park Greenway',\n",
    "  'lat': 40.69957016220183,\n",
    "  'lng': -73.99793274204788,\n",
    "  'labeledLatLngs': [{'label': 'display',\n",
    "    'lat': 40.69957016220183,\n",
    "    'lng': -73.99793274204788}],\n",
    "  'distance': 180,\n",
    "  'postalCode': '11201',\n",
    "  'cc': 'US',\n",
    "  'city': 'Brooklyn',\n",
    "  'state': 'NY',\n",
    "  'country': 'United States',\n",
    "  'formattedAddress': ['Furman St (Brooklyn Bridge Park Greenway)',\n",
    "   'Brooklyn, NY 11201',\n",
    "   'United States']},\n",
    " 'categories': [{'id': '4e74f6cabd41c4836eac4c31',\n",
    "   'name': 'Pier',\n",
    "   'pluralName': 'Piers',\n",
    "   'shortName': 'Piers',\n",
    "   'icon': {'prefix': 'https://ss3.4sqi.net/img/categories_v2/travel/ferry_pier_',\n",
    "    'suffix': '.png'},\n",
    "   'primary': True}],\n",
    " 'referralId': 'v-1657284097',\n",
    " 'hasPerk': False}"
   ]
  },
  {
   "cell_type": "markdown",
   "id": "18543bd3-5c0a-4fd7-89ed-4f4ee1472d9f",
   "metadata": {},
   "source": [
    "And this is another one."
   ]
  },
  {
   "cell_type": "code",
   "execution_count": null,
   "id": "f992abc3-9198-4286-86c5-b3d836f5165d",
   "metadata": {},
   "outputs": [],
   "source": [
    "{'categories': [{'icon': {'prefix': 'https://ss3.4sqi.net/img/categories_v2/shops/bookstore_',\n",
    "    'suffix': '.png'},\n",
    "   'id': '4bf58dd8d48988d114951735',\n",
    "   'name': 'Bookstore',\n",
    "   'pluralName': 'Bookstores',\n",
    "   'primary': True,\n",
    "   'shortName': 'Bookstore'}],\n",
    " 'hasPerk': False,\n",
    " 'id': '513a18937e2793d197a900d5',\n",
    " 'location': {'cc': 'CN',\n",
    "  'city': 'San Bruno',\n",
    "  'country': 'United States',\n",
    "  'crossStreet': 'The Shops at Tanforan',\n",
    "  'distance': 6981,\n",
    "  'formattedAddress': ['San Bruno', 'CA, 94066', '中国'],\n",
    "  'labeledLatLngs': [{'label': 'display',\n",
    "    'lat': 37.637506,\n",
    "    'lng': 122.416605}],\n",
    "  'lat': 37.637506,\n",
    "  'lng': 122.416605,\n",
    "  'postalCode': '94066',\n",
    "  'state': 'CA'},\n",
    " 'name': 'Barnes & Noble',\n",
    " 'referralId': 'v-1657282401'}"
   ]
  },
  {
   "cell_type": "markdown",
   "id": "e4759062-89bb-4170-85dd-a478a1f2f756",
   "metadata": {},
   "source": [
    "### Modeling Location Data"
   ]
  },
  {
   "cell_type": "markdown",
   "id": "9fccb6cd-1739-4ec2-a049-73f4a385a1e3",
   "metadata": {},
   "source": [
    "In this lesson, let's just model the location data.  Here are the attributes we have:"
   ]
  },
  {
   "cell_type": "code",
   "execution_count": 10,
   "id": "be5b979a-e37e-425c-bd27-1523bad44dfd",
   "metadata": {},
   "outputs": [],
   "source": [
    "location_info =  {'address': '125 Furman St',\n",
    "  'lat': 40.69957016220183,\n",
    "  'lng': -73.99793274204788,\n",
    "  'postalCode': '11201',\n",
    "  'cc': 'US',\n",
    "  'city': 'Brooklyn',\n",
    "  'state': 'NY',\n",
    "  'country': 'United States'}"
   ]
  },
  {
   "cell_type": "markdown",
   "id": "53bd26fc-78e4-4e23-9f1b-7111c0007d49",
   "metadata": {},
   "source": [
    "Sketch out the necessary tables and columns for each of the attributes above.  We'll discuss in the next lesson.  You can start by thinking of the has_one and has_many relationships. \n",
    "\n",
    "\n",
    "And then, you can check your work by imagining if you had rows of locations that we want to store in the database, that we would maintain a single source of truth.  "
   ]
  }
 ],
 "metadata": {
  "kernelspec": {
   "display_name": "Python 3 (ipykernel)",
   "language": "python",
   "name": "python3"
  },
  "language_info": {
   "codemirror_mode": {
    "name": "ipython",
    "version": 3
   },
   "file_extension": ".py",
   "mimetype": "text/x-python",
   "name": "python",
   "nbconvert_exporter": "python",
   "pygments_lexer": "ipython3",
   "version": "3.9.10"
  }
 },
 "nbformat": 4,
 "nbformat_minor": 5
}
